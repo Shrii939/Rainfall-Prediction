{
  "nbformat": 4,
  "nbformat_minor": 0,
  "metadata": {
    "colab": {
      "provenance": [],
      "include_colab_link": true
    },
    "kernelspec": {
      "name": "python3",
      "display_name": "Python 3"
    },
    "language_info": {
      "name": "python"
    }
  },
  "cells": [
    {
      "cell_type": "markdown",
      "metadata": {
        "id": "view-in-github",
        "colab_type": "text"
      },
      "source": [
        "<a href=\"https://colab.research.google.com/github/Shrii939/Rainfall-Prediction/blob/master/copy_of_hackathon.ipynb\" target=\"_parent\"><img src=\"https://colab.research.google.com/assets/colab-badge.svg\" alt=\"Open In Colab\"/></a>"
      ]
    },
    {
      "cell_type": "code",
      "execution_count": null,
      "metadata": {
        "id": "FMjbFEJwaPLH"
      },
      "outputs": [],
      "source": [
        "import numpy as np\n",
        "import pandas as pd\n",
        "import matplotlib as mtlib"
      ]
    },
    {
      "cell_type": "code",
      "source": [
        "import io"
      ],
      "metadata": {
        "id": "gBNenhZRbvGC"
      },
      "execution_count": null,
      "outputs": []
    },
    {
      "cell_type": "code",
      "source": [
        "df = pd.read_csv('/content/Mangalore,India 2020-12-01 to 2022-12-20(1).csv')\n",
        "df\n"
      ],
      "metadata": {
        "colab": {
          "base_uri": "https://localhost:8080/",
          "height": 424
        },
        "id": "4ePGepUYjgz9",
        "outputId": "7bdae54e-a106-4ecb-e185-e4bcf4319867"
      },
      "execution_count": null,
      "outputs": [
        {
          "output_type": "execute_result",
          "data": {
            "text/plain": [
              "       datetime  temp   dew  humidity  precip\n",
              "0    01-12-2020  27.9  20.7      65.7     0.0\n",
              "1    02-12-2020  27.1  18.6      60.8     0.0\n",
              "2    03-12-2020  26.7  20.3      69.1     0.0\n",
              "3    04-12-2020  28.0  21.9      71.0     0.0\n",
              "4    05-12-2020  28.8  21.7      66.8     0.0\n",
              "..          ...   ...   ...       ...     ...\n",
              "745  16-12-2022  27.0  20.9      69.7     1.2\n",
              "746  17-12-2022  26.6  20.9      71.4     0.7\n",
              "747  18-12-2022  27.4  20.2      64.9     0.0\n",
              "748  19-12-2022  27.1  20.6      67.9     0.0\n",
              "749  20-12-2022  27.8  21.7      69.7     0.6\n",
              "\n",
              "[750 rows x 5 columns]"
            ],
            "text/html": [
              "\n",
              "  <div id=\"df-28795e9c-d220-4afa-98a2-390993c6ff6f\">\n",
              "    <div class=\"colab-df-container\">\n",
              "      <div>\n",
              "<style scoped>\n",
              "    .dataframe tbody tr th:only-of-type {\n",
              "        vertical-align: middle;\n",
              "    }\n",
              "\n",
              "    .dataframe tbody tr th {\n",
              "        vertical-align: top;\n",
              "    }\n",
              "\n",
              "    .dataframe thead th {\n",
              "        text-align: right;\n",
              "    }\n",
              "</style>\n",
              "<table border=\"1\" class=\"dataframe\">\n",
              "  <thead>\n",
              "    <tr style=\"text-align: right;\">\n",
              "      <th></th>\n",
              "      <th>datetime</th>\n",
              "      <th>temp</th>\n",
              "      <th>dew</th>\n",
              "      <th>humidity</th>\n",
              "      <th>precip</th>\n",
              "    </tr>\n",
              "  </thead>\n",
              "  <tbody>\n",
              "    <tr>\n",
              "      <th>0</th>\n",
              "      <td>01-12-2020</td>\n",
              "      <td>27.9</td>\n",
              "      <td>20.7</td>\n",
              "      <td>65.7</td>\n",
              "      <td>0.0</td>\n",
              "    </tr>\n",
              "    <tr>\n",
              "      <th>1</th>\n",
              "      <td>02-12-2020</td>\n",
              "      <td>27.1</td>\n",
              "      <td>18.6</td>\n",
              "      <td>60.8</td>\n",
              "      <td>0.0</td>\n",
              "    </tr>\n",
              "    <tr>\n",
              "      <th>2</th>\n",
              "      <td>03-12-2020</td>\n",
              "      <td>26.7</td>\n",
              "      <td>20.3</td>\n",
              "      <td>69.1</td>\n",
              "      <td>0.0</td>\n",
              "    </tr>\n",
              "    <tr>\n",
              "      <th>3</th>\n",
              "      <td>04-12-2020</td>\n",
              "      <td>28.0</td>\n",
              "      <td>21.9</td>\n",
              "      <td>71.0</td>\n",
              "      <td>0.0</td>\n",
              "    </tr>\n",
              "    <tr>\n",
              "      <th>4</th>\n",
              "      <td>05-12-2020</td>\n",
              "      <td>28.8</td>\n",
              "      <td>21.7</td>\n",
              "      <td>66.8</td>\n",
              "      <td>0.0</td>\n",
              "    </tr>\n",
              "    <tr>\n",
              "      <th>...</th>\n",
              "      <td>...</td>\n",
              "      <td>...</td>\n",
              "      <td>...</td>\n",
              "      <td>...</td>\n",
              "      <td>...</td>\n",
              "    </tr>\n",
              "    <tr>\n",
              "      <th>745</th>\n",
              "      <td>16-12-2022</td>\n",
              "      <td>27.0</td>\n",
              "      <td>20.9</td>\n",
              "      <td>69.7</td>\n",
              "      <td>1.2</td>\n",
              "    </tr>\n",
              "    <tr>\n",
              "      <th>746</th>\n",
              "      <td>17-12-2022</td>\n",
              "      <td>26.6</td>\n",
              "      <td>20.9</td>\n",
              "      <td>71.4</td>\n",
              "      <td>0.7</td>\n",
              "    </tr>\n",
              "    <tr>\n",
              "      <th>747</th>\n",
              "      <td>18-12-2022</td>\n",
              "      <td>27.4</td>\n",
              "      <td>20.2</td>\n",
              "      <td>64.9</td>\n",
              "      <td>0.0</td>\n",
              "    </tr>\n",
              "    <tr>\n",
              "      <th>748</th>\n",
              "      <td>19-12-2022</td>\n",
              "      <td>27.1</td>\n",
              "      <td>20.6</td>\n",
              "      <td>67.9</td>\n",
              "      <td>0.0</td>\n",
              "    </tr>\n",
              "    <tr>\n",
              "      <th>749</th>\n",
              "      <td>20-12-2022</td>\n",
              "      <td>27.8</td>\n",
              "      <td>21.7</td>\n",
              "      <td>69.7</td>\n",
              "      <td>0.6</td>\n",
              "    </tr>\n",
              "  </tbody>\n",
              "</table>\n",
              "<p>750 rows × 5 columns</p>\n",
              "</div>\n",
              "      <button class=\"colab-df-convert\" onclick=\"convertToInteractive('df-28795e9c-d220-4afa-98a2-390993c6ff6f')\"\n",
              "              title=\"Convert this dataframe to an interactive table.\"\n",
              "              style=\"display:none;\">\n",
              "        \n",
              "  <svg xmlns=\"http://www.w3.org/2000/svg\" height=\"24px\"viewBox=\"0 0 24 24\"\n",
              "       width=\"24px\">\n",
              "    <path d=\"M0 0h24v24H0V0z\" fill=\"none\"/>\n",
              "    <path d=\"M18.56 5.44l.94 2.06.94-2.06 2.06-.94-2.06-.94-.94-2.06-.94 2.06-2.06.94zm-11 1L8.5 8.5l.94-2.06 2.06-.94-2.06-.94L8.5 2.5l-.94 2.06-2.06.94zm10 10l.94 2.06.94-2.06 2.06-.94-2.06-.94-.94-2.06-.94 2.06-2.06.94z\"/><path d=\"M17.41 7.96l-1.37-1.37c-.4-.4-.92-.59-1.43-.59-.52 0-1.04.2-1.43.59L10.3 9.45l-7.72 7.72c-.78.78-.78 2.05 0 2.83L4 21.41c.39.39.9.59 1.41.59.51 0 1.02-.2 1.41-.59l7.78-7.78 2.81-2.81c.8-.78.8-2.07 0-2.86zM5.41 20L4 18.59l7.72-7.72 1.47 1.35L5.41 20z\"/>\n",
              "  </svg>\n",
              "      </button>\n",
              "      \n",
              "  <style>\n",
              "    .colab-df-container {\n",
              "      display:flex;\n",
              "      flex-wrap:wrap;\n",
              "      gap: 12px;\n",
              "    }\n",
              "\n",
              "    .colab-df-convert {\n",
              "      background-color: #E8F0FE;\n",
              "      border: none;\n",
              "      border-radius: 50%;\n",
              "      cursor: pointer;\n",
              "      display: none;\n",
              "      fill: #1967D2;\n",
              "      height: 32px;\n",
              "      padding: 0 0 0 0;\n",
              "      width: 32px;\n",
              "    }\n",
              "\n",
              "    .colab-df-convert:hover {\n",
              "      background-color: #E2EBFA;\n",
              "      box-shadow: 0px 1px 2px rgba(60, 64, 67, 0.3), 0px 1px 3px 1px rgba(60, 64, 67, 0.15);\n",
              "      fill: #174EA6;\n",
              "    }\n",
              "\n",
              "    [theme=dark] .colab-df-convert {\n",
              "      background-color: #3B4455;\n",
              "      fill: #D2E3FC;\n",
              "    }\n",
              "\n",
              "    [theme=dark] .colab-df-convert:hover {\n",
              "      background-color: #434B5C;\n",
              "      box-shadow: 0px 1px 3px 1px rgba(0, 0, 0, 0.15);\n",
              "      filter: drop-shadow(0px 1px 2px rgba(0, 0, 0, 0.3));\n",
              "      fill: #FFFFFF;\n",
              "    }\n",
              "  </style>\n",
              "\n",
              "      <script>\n",
              "        const buttonEl =\n",
              "          document.querySelector('#df-28795e9c-d220-4afa-98a2-390993c6ff6f button.colab-df-convert');\n",
              "        buttonEl.style.display =\n",
              "          google.colab.kernel.accessAllowed ? 'block' : 'none';\n",
              "\n",
              "        async function convertToInteractive(key) {\n",
              "          const element = document.querySelector('#df-28795e9c-d220-4afa-98a2-390993c6ff6f');\n",
              "          const dataTable =\n",
              "            await google.colab.kernel.invokeFunction('convertToInteractive',\n",
              "                                                     [key], {});\n",
              "          if (!dataTable) return;\n",
              "\n",
              "          const docLinkHtml = 'Like what you see? Visit the ' +\n",
              "            '<a target=\"_blank\" href=https://colab.research.google.com/notebooks/data_table.ipynb>data table notebook</a>'\n",
              "            + ' to learn more about interactive tables.';\n",
              "          element.innerHTML = '';\n",
              "          dataTable['output_type'] = 'display_data';\n",
              "          await google.colab.output.renderOutput(dataTable, element);\n",
              "          const docLink = document.createElement('div');\n",
              "          docLink.innerHTML = docLinkHtml;\n",
              "          element.appendChild(docLink);\n",
              "        }\n",
              "      </script>\n",
              "    </div>\n",
              "  </div>\n",
              "  "
            ]
          },
          "metadata": {},
          "execution_count": 9
        }
      ]
    },
    {
      "cell_type": "code",
      "source": [
        "df['temp']=df['temp'].interpolate()\n",
        "df['dew']=df['dew'].interpolate()\n",
        "df['humidity']=df['humidity'].interpolate()\n",
        "df['precip']=df['precip'].interpolate()"
      ],
      "metadata": {
        "id": "ANKrWg02jl1Y"
      },
      "execution_count": null,
      "outputs": []
    },
    {
      "cell_type": "code",
      "source": [
        "df.info()"
      ],
      "metadata": {
        "colab": {
          "base_uri": "https://localhost:8080/"
        },
        "id": "MdplR-0ikQTG",
        "outputId": "795e61e4-1ba9-49fa-9901-1c404fa0ed6f"
      },
      "execution_count": null,
      "outputs": [
        {
          "output_type": "stream",
          "name": "stdout",
          "text": [
            "<class 'pandas.core.frame.DataFrame'>\n",
            "RangeIndex: 750 entries, 0 to 749\n",
            "Data columns (total 5 columns):\n",
            " #   Column    Non-Null Count  Dtype  \n",
            "---  ------    --------------  -----  \n",
            " 0   datetime  750 non-null    object \n",
            " 1   temp      750 non-null    float64\n",
            " 2   dew       750 non-null    float64\n",
            " 3   humidity  750 non-null    float64\n",
            " 4   precip    750 non-null    float64\n",
            "dtypes: float64(4), object(1)\n",
            "memory usage: 29.4+ KB\n"
          ]
        }
      ]
    },
    {
      "cell_type": "code",
      "source": [
        "import seaborn as sns"
      ],
      "metadata": {
        "id": "lkZA6pzvkpHD"
      },
      "execution_count": null,
      "outputs": []
    },
    {
      "cell_type": "code",
      "source": [
        "sns.pairplot(df)"
      ],
      "metadata": {
        "colab": {
          "base_uri": "https://localhost:8080/",
          "height": 743
        },
        "id": "QvxAhERJkuG3",
        "outputId": "0b3b6c35-98c5-487e-a3be-f3acd4f7bfe7"
      },
      "execution_count": null,
      "outputs": [
        {
          "output_type": "execute_result",
          "data": {
            "text/plain": [
              "<seaborn.axisgrid.PairGrid at 0x7f59555c0f10>"
            ]
          },
          "metadata": {},
          "execution_count": 13
        },
        {
          "output_type": "display_data",
          "data": {
            "text/plain": [
              "<Figure size 720x720 with 20 Axes>"
            ],
            "image/png": "[encoded data removed]"
          },
          "metadata": {
            "needs_background": "light"
          }
        }
      ]
    },
    {
      "cell_type": "code",
      "source": [
        "#from sklearn import preprocessing\n"
      ],
      "metadata": {
        "id": "RjKMI3lRkx-Q"
      },
      "execution_count": null,
      "outputs": []
    },
    {
      "cell_type": "code",
      "source": [
        "#df = df.drop(['datetime'], axis=1)\n",
        "\n",
        "#min_max_scaler = preprocessing.MinMaxScaler(feature_range =(0, 1))\n",
        "#after_scalar = min_max_scaler.fit_transform(df)\n"
      ],
      "metadata": {
        "id": "P8GFXOgE4upE"
      },
      "execution_count": null,
      "outputs": []
    },
    {
      "cell_type": "code",
      "source": [
        "#Standardisation = preprocessing.StandardScaler()\n",
        "#after_standardisation = Standardisation.fit_transform(df)"
      ],
      "metadata": {
        "id": "fBalgTxO5KiR"
      },
      "execution_count": null,
      "outputs": []
    },
    {
      "cell_type": "code",
      "source": [
        "#print (\"\\nAfter Standardisation : \\n\",after_standardisation )"
      ],
      "metadata": {
        "id": "5rahT1dL6EZB"
      },
      "execution_count": null,
      "outputs": []
    },
    {
      "cell_type": "code",
      "source": [
        "sn = pd.read_csv('/content/Mangalore,India 2020-12-01 to 2022-12-20(1).csv')\n",
        "sn"
      ],
      "metadata": {
        "colab": {
          "base_uri": "https://localhost:8080/",
          "height": 424
        },
        "id": "i0TATu4D6Mc9",
        "outputId": "c4d52569-8529-45d7-b336-71e6892d2616"
      },
      "execution_count": null,
      "outputs": [
        {
          "output_type": "execute_result",
          "data": {
            "text/plain": [
              "       datetime  temp   dew  humidity  precip\n",
              "0    01-12-2020  27.9  20.7      65.7     0.0\n",
              "1    02-12-2020  27.1  18.6      60.8     0.0\n",
              "2    03-12-2020  26.7  20.3      69.1     0.0\n",
              "3    04-12-2020  28.0  21.9      71.0     0.0\n",
              "4    05-12-2020  28.8  21.7      66.8     0.0\n",
              "..          ...   ...   ...       ...     ...\n",
              "745  16-12-2022  27.0  20.9      69.7     1.2\n",
              "746  17-12-2022  26.6  20.9      71.4     0.7\n",
              "747  18-12-2022  27.4  20.2      64.9     0.0\n",
              "748  19-12-2022  27.1  20.6      67.9     0.0\n",
              "749  20-12-2022  27.8  21.7      69.7     0.6\n",
              "\n",
              "[750 rows x 5 columns]"
            ],
            "text/html": [
              "\n",
              "  <div id=\"df-30900b57-99a3-43cd-80e6-a02045dba2d6\">\n",
              "    <div class=\"colab-df-container\">\n",
              "      <div>\n",
              "<style scoped>\n",
              "    .dataframe tbody tr th:only-of-type {\n",
              "        vertical-align: middle;\n",
              "    }\n",
              "\n",
              "    .dataframe tbody tr th {\n",
              "        vertical-align: top;\n",
              "    }\n",
              "\n",
              "    .dataframe thead th {\n",
              "        text-align: right;\n",
              "    }\n",
              "</style>\n",
              "<table border=\"1\" class=\"dataframe\">\n",
              "  <thead>\n",
              "    <tr style=\"text-align: right;\">\n",
              "      <th></th>\n",
              "      <th>datetime</th>\n",
              "      <th>temp</th>\n",
              "      <th>dew</th>\n",
              "      <th>humidity</th>\n",
              "      <th>precip</th>\n",
              "    </tr>\n",
              "  </thead>\n",
              "  <tbody>\n",
              "    <tr>\n",
              "      <th>0</th>\n",
              "      <td>01-12-2020</td>\n",
              "      <td>27.9</td>\n",
              "      <td>20.7</td>\n",
              "      <td>65.7</td>\n",
              "      <td>0.0</td>\n",
              "    </tr>\n",
              "    <tr>\n",
              "      <th>1</th>\n",
              "      <td>02-12-2020</td>\n",
              "      <td>27.1</td>\n",
              "      <td>18.6</td>\n",
              "      <td>60.8</td>\n",
              "      <td>0.0</td>\n",
              "    </tr>\n",
              "    <tr>\n",
              "      <th>2</th>\n",
              "      <td>03-12-2020</td>\n",
              "      <td>26.7</td>\n",
              "      <td>20.3</td>\n",
              "      <td>69.1</td>\n",
              "      <td>0.0</td>\n",
              "    </tr>\n",
              "    <tr>\n",
              "      <th>3</th>\n",
              "      <td>04-12-2020</td>\n",
              "      <td>28.0</td>\n",
              "      <td>21.9</td>\n",
              "      <td>71.0</td>\n",
              "      <td>0.0</td>\n",
              "    </tr>\n",
              "    <tr>\n",
              "      <th>4</th>\n",
              "      <td>05-12-2020</td>\n",
              "      <td>28.8</td>\n",
              "      <td>21.7</td>\n",
              "      <td>66.8</td>\n",
              "      <td>0.0</td>\n",
              "    </tr>\n",
              "    <tr>\n",
              "      <th>...</th>\n",
              "      <td>...</td>\n",
              "      <td>...</td>\n",
              "      <td>...</td>\n",
              "      <td>...</td>\n",
              "      <td>...</td>\n",
              "    </tr>\n",
              "    <tr>\n",
              "      <th>745</th>\n",
              "      <td>16-12-2022</td>\n",
              "      <td>27.0</td>\n",
              "      <td>20.9</td>\n",
              "      <td>69.7</td>\n",
              "      <td>1.2</td>\n",
              "    </tr>\n",
              "    <tr>\n",
              "      <th>746</th>\n",
              "      <td>17-12-2022</td>\n",
              "      <td>26.6</td>\n",
              "      <td>20.9</td>\n",
              "      <td>71.4</td>\n",
              "      <td>0.7</td>\n",
              "    </tr>\n",
              "    <tr>\n",
              "      <th>747</th>\n",
              "      <td>18-12-2022</td>\n",
              "      <td>27.4</td>\n",
              "      <td>20.2</td>\n",
              "      <td>64.9</td>\n",
              "      <td>0.0</td>\n",
              "    </tr>\n",
              "    <tr>\n",
              "      <th>748</th>\n",
              "      <td>19-12-2022</td>\n",
              "      <td>27.1</td>\n",
              "      <td>20.6</td>\n",
              "      <td>67.9</td>\n",
              "      <td>0.0</td>\n",
              "    </tr>\n",
              "    <tr>\n",
              "      <th>749</th>\n",
              "      <td>20-12-2022</td>\n",
              "      <td>27.8</td>\n",
              "      <td>21.7</td>\n",
              "      <td>69.7</td>\n",
              "      <td>0.6</td>\n",
              "    </tr>\n",
              "  </tbody>\n",
              "</table>\n",
              "<p>750 rows × 5 columns</p>\n",
              "</div>\n",
              "      <button class=\"colab-df-convert\" onclick=\"convertToInteractive('df-30900b57-99a3-43cd-80e6-a02045dba2d6')\"\n",
              "              title=\"Convert this dataframe to an interactive table.\"\n",
              "              style=\"display:none;\">\n",
              "        \n",
              "  <svg xmlns=\"http://www.w3.org/2000/svg\" height=\"24px\"viewBox=\"0 0 24 24\"\n",
              "       width=\"24px\">\n",
              "    <path d=\"M0 0h24v24H0V0z\" fill=\"none\"/>\n",
              "    <path d=\"M18.56 5.44l.94 2.06.94-2.06 2.06-.94-2.06-.94-.94-2.06-.94 2.06-2.06.94zm-11 1L8.5 8.5l.94-2.06 2.06-.94-2.06-.94L8.5 2.5l-.94 2.06-2.06.94zm10 10l.94 2.06.94-2.06 2.06-.94-2.06-.94-.94-2.06-.94 2.06-2.06.94z\"/><path d=\"M17.41 7.96l-1.37-1.37c-.4-.4-.92-.59-1.43-.59-.52 0-1.04.2-1.43.59L10.3 9.45l-7.72 7.72c-.78.78-.78 2.05 0 2.83L4 21.41c.39.39.9.59 1.41.59.51 0 1.02-.2 1.41-.59l7.78-7.78 2.81-2.81c.8-.78.8-2.07 0-2.86zM5.41 20L4 18.59l7.72-7.72 1.47 1.35L5.41 20z\"/>\n",
              "  </svg>\n",
              "      </button>\n",
              "      \n",
              "  <style>\n",
              "    .colab-df-container {\n",
              "      display:flex;\n",
              "      flex-wrap:wrap;\n",
              "      gap: 12px;\n",
              "    }\n",
              "\n",
              "    .colab-df-convert {\n",
              "      background-color: #E8F0FE;\n",
              "      border: none;\n",
              "      border-radius: 50%;\n",
              "      cursor: pointer;\n",
              "      display: none;\n",
              "      fill: #1967D2;\n",
              "      height: 32px;\n",
              "      padding: 0 0 0 0;\n",
              "      width: 32px;\n",
              "    }\n",
              "\n",
              "    .colab-df-convert:hover {\n",
              "      background-color: #E2EBFA;\n",
              "      box-shadow: 0px 1px 2px rgba(60, 64, 67, 0.3), 0px 1px 3px 1px rgba(60, 64, 67, 0.15);\n",
              "      fill: #174EA6;\n",
              "    }\n",
              "\n",
              "    [theme=dark] .colab-df-convert {\n",
              "      background-color: #3B4455;\n",
              "      fill: #D2E3FC;\n",
              "    }\n",
              "\n",
              "    [theme=dark] .colab-df-convert:hover {\n",
              "      background-color: #434B5C;\n",
              "      box-shadow: 0px 1px 3px 1px rgba(0, 0, 0, 0.15);\n",
              "      filter: drop-shadow(0px 1px 2px rgba(0, 0, 0, 0.3));\n",
              "      fill: #FFFFFF;\n",
              "    }\n",
              "  </style>\n",
              "\n",
              "      <script>\n",
              "        const buttonEl =\n",
              "          document.querySelector('#df-30900b57-99a3-43cd-80e6-a02045dba2d6 button.colab-df-convert');\n",
              "        buttonEl.style.display =\n",
              "          google.colab.kernel.accessAllowed ? 'block' : 'none';\n",
              "\n",
              "        async function convertToInteractive(key) {\n",
              "          const element = document.querySelector('#df-30900b57-99a3-43cd-80e6-a02045dba2d6');\n",
              "          const dataTable =\n",
              "            await google.colab.kernel.invokeFunction('convertToInteractive',\n",
              "                                                     [key], {});\n",
              "          if (!dataTable) return;\n",
              "\n",
              "          const docLinkHtml = 'Like what you see? Visit the ' +\n",
              "            '<a target=\"_blank\" href=https://colab.research.google.com/notebooks/data_table.ipynb>data table notebook</a>'\n",
              "            + ' to learn more about interactive tables.';\n",
              "          element.innerHTML = '';\n",
              "          dataTable['output_type'] = 'display_data';\n",
              "          await google.colab.output.renderOutput(dataTable, element);\n",
              "          const docLink = document.createElement('div');\n",
              "          docLink.innerHTML = docLinkHtml;\n",
              "          element.appendChild(docLink);\n",
              "        }\n",
              "      </script>\n",
              "    </div>\n",
              "  </div>\n",
              "  "
            ]
          },
          "metadata": {},
          "execution_count": 18
        }
      ]
    },
    {
      "cell_type": "code",
      "source": [
        "avg_temp = sn[\"temp\"].tolist()\n",
        "norm_temp= []\n",
        "for i in sn['temp'].values:\n",
        "  z = (i - min(avg_temp))/ (max(avg_temp) - min(avg_temp)) # normalizing bw 0 to 1\n",
        "  norm_temp.append(z)"
      ],
      "metadata": {
        "id": "jrKebYSUMFLX"
      },
      "execution_count": null,
      "outputs": []
    },
    {
      "cell_type": "code",
      "source": [
        "for i in range(10):\n",
        "  print(norm_temp[i])"
      ],
      "metadata": {
        "colab": {
          "base_uri": "https://localhost:8080/"
        },
        "id": "pSsqaEz8MLAc",
        "outputId": "1fa87955-1959-402c-8fa1-e003de7d8d41"
      },
      "execution_count": null,
      "outputs": [
        {
          "output_type": "stream",
          "name": "stdout",
          "text": [
            "0.6588235294117645\n",
            "0.5647058823529413\n",
            "0.5176470588235292\n",
            "0.6705882352941176\n",
            "0.7647058823529411\n",
            "0.7411764705882353\n",
            "0.7882352941176469\n",
            "0.6705882352941176\n",
            "0.5882352941176471\n",
            "0.6941176470588234\n"
          ]
        }
      ]
    },
    {
      "cell_type": "code",
      "source": [
        "avg_dew = sn[\"dew\"].tolist()\n",
        "norm_dew= []\n",
        "for i in sn['dew'].values:\n",
        "  x = (i - min(avg_dew))/ (max(avg_dew) - min(avg_dew))\n",
        "  norm_dew.append(x)\n",
        "for i in range(10):\n",
        "  print(norm_dew[i])"
      ],
      "metadata": {
        "colab": {
          "base_uri": "https://localhost:8080/"
        },
        "id": "pQ85Tj4bMza7",
        "outputId": "bcf993f4-bdc6-4f19-c4ea-3dcee80ae5a0"
      },
      "execution_count": null,
      "outputs": [
        {
          "output_type": "stream",
          "name": "stdout",
          "text": [
            "0.5714285714285713\n",
            "0.3949579831932774\n",
            "0.5378151260504201\n",
            "0.672268907563025\n",
            "0.6554621848739495\n",
            "0.5798319327731093\n",
            "0.6218487394957983\n",
            "0.6218487394957983\n",
            "0.6974789915966385\n",
            "0.73109243697479\n"
          ]
        }
      ]
    },
    {
      "cell_type": "code",
      "source": [
        "avg_humidity = sn[\"humidity\"].tolist()\n",
        "norm_humidity= []\n",
        "for i in sn['humidity'].values:\n",
        "  c = (i - min(avg_humidity))/ (max(avg_humidity) - min(avg_humidity))\n",
        "  norm_humidity.append(c)\n",
        "\n",
        "for i in range(10):\n",
        "  print(norm_dew[i])"
      ],
      "metadata": {
        "colab": {
          "base_uri": "https://localhost:8080/"
        },
        "id": "ibscp-BTObkO",
        "outputId": "fba46602-9e17-43b1-b816-ad7b9522078d"
      },
      "execution_count": null,
      "outputs": [
        {
          "output_type": "stream",
          "name": "stdout",
          "text": [
            "0.5714285714285713\n",
            "0.3949579831932774\n",
            "0.5378151260504201\n",
            "0.672268907563025\n",
            "0.6554621848739495\n",
            "0.5798319327731093\n",
            "0.6218487394957983\n",
            "0.6218487394957983\n",
            "0.6974789915966385\n",
            "0.73109243697479\n"
          ]
        }
      ]
    },
    {
      "cell_type": "code",
      "source": [
        "avg_precip = sn['precip'].tolist()\n",
        "norm_precip= []\n",
        "for i in sn['precip'].values:\n",
        "  v = (i - min(avg_precip))/ (max(avg_precip) - min(avg_precip))\n",
        "  norm_precip.append(v)\n",
        "  \n",
        "for i in range(10):\n",
        "  print(norm_dew[i])"
      ],
      "metadata": {
        "colab": {
          "base_uri": "https://localhost:8080/"
        },
        "id": "w3wu4AWWQ00s",
        "outputId": "d8c2ba1f-36e9-4c80-e7fb-275aa15737c3"
      },
      "execution_count": null,
      "outputs": [
        {
          "output_type": "stream",
          "name": "stdout",
          "text": [
            "0.5714285714285713\n",
            "0.3949579831932774\n",
            "0.5378151260504201\n",
            "0.672268907563025\n",
            "0.6554621848739495\n",
            "0.5798319327731093\n",
            "0.6218487394957983\n",
            "0.6218487394957983\n",
            "0.6974789915966385\n",
            "0.73109243697479\n"
          ]
        }
      ]
    },
    {
      "cell_type": "code",
      "source": [
        "sn.info()"
      ],
      "metadata": {
        "colab": {
          "base_uri": "https://localhost:8080/"
        },
        "id": "s4xk3do5UUeY",
        "outputId": "1eff213b-f3ae-41b8-bc7c-c44ab65d4f46"
      },
      "execution_count": null,
      "outputs": [
        {
          "output_type": "stream",
          "name": "stdout",
          "text": [
            "<class 'pandas.core.frame.DataFrame'>\n",
            "RangeIndex: 750 entries, 0 to 749\n",
            "Data columns (total 5 columns):\n",
            " #   Column    Non-Null Count  Dtype  \n",
            "---  ------    --------------  -----  \n",
            " 0   datetime  750 non-null    object \n",
            " 1   temp      750 non-null    float64\n",
            " 2   dew       750 non-null    float64\n",
            " 3   humidity  750 non-null    float64\n",
            " 4   precip    750 non-null    float64\n",
            "dtypes: float64(4), object(1)\n",
            "memory usage: 29.4+ KB\n"
          ]
        }
      ]
    },
    {
      "cell_type": "code",
      "source": [
        "print(len(norm_humidity))\n",
        "\n",
        "dataframe1 = pd.DataFrame()\n",
        "dataframe1['temp'] = norm_temp\n",
        "dataframe1['dew'] = norm_dew\n",
        "dataframe1['humidity'] = norm_humidity\n",
        "dataframe1['precip'] = norm_precip"
      ],
      "metadata": {
        "colab": {
          "base_uri": "https://localhost:8080/"
        },
        "id": "gW-cnBbTSOLu",
        "outputId": "f474dec5-e9e0-45ff-98bd-422f95df4cc2"
      },
      "execution_count": null,
      "outputs": [
        {
          "output_type": "stream",
          "name": "stdout",
          "text": [
            "750\n"
          ]
        }
      ]
    },
    {
      "cell_type": "code",
      "source": [
        "dataframe1.head()"
      ],
      "metadata": {
        "colab": {
          "base_uri": "https://localhost:8080/",
          "height": 206
        },
        "id": "uiqIVN3XTMhM",
        "outputId": "62fc8797-22c6-43b6-8932-f78be8aea0ea"
      },
      "execution_count": null,
      "outputs": [
        {
          "output_type": "execute_result",
          "data": {
            "text/plain": [
              "       temp       dew  humidity  precip\n",
              "0  0.658824  0.571429  0.392484     0.0\n",
              "1  0.564706  0.394958  0.290188     0.0\n",
              "2  0.517647  0.537815  0.463466     0.0\n",
              "3  0.670588  0.672269  0.503132     0.0\n",
              "4  0.764706  0.655462  0.415449     0.0"
            ],
            "text/html": [
              "\n",
              "  <div id=\"df-3623c382-2e4d-4151-a571-f2c524505acf\">\n",
              "    <div class=\"colab-df-container\">\n",
              "      <div>\n",
              "<style scoped>\n",
              "    .dataframe tbody tr th:only-of-type {\n",
              "        vertical-align: middle;\n",
              "    }\n",
              "\n",
              "    .dataframe tbody tr th {\n",
              "        vertical-align: top;\n",
              "    }\n",
              "\n",
              "    .dataframe thead th {\n",
              "        text-align: right;\n",
              "    }\n",
              "</style>\n",
              "<table border=\"1\" class=\"dataframe\">\n",
              "  <thead>\n",
              "    <tr style=\"text-align: right;\">\n",
              "      <th></th>\n",
              "      <th>temp</th>\n",
              "      <th>dew</th>\n",
              "      <th>humidity</th>\n",
              "      <th>precip</th>\n",
              "    </tr>\n",
              "  </thead>\n",
              "  <tbody>\n",
              "    <tr>\n",
              "      <th>0</th>\n",
              "      <td>0.658824</td>\n",
              "      <td>0.571429</td>\n",
              "      <td>0.392484</td>\n",
              "      <td>0.0</td>\n",
              "    </tr>\n",
              "    <tr>\n",
              "      <th>1</th>\n",
              "      <td>0.564706</td>\n",
              "      <td>0.394958</td>\n",
              "      <td>0.290188</td>\n",
              "      <td>0.0</td>\n",
              "    </tr>\n",
              "    <tr>\n",
              "      <th>2</th>\n",
              "      <td>0.517647</td>\n",
              "      <td>0.537815</td>\n",
              "      <td>0.463466</td>\n",
              "      <td>0.0</td>\n",
              "    </tr>\n",
              "    <tr>\n",
              "      <th>3</th>\n",
              "      <td>0.670588</td>\n",
              "      <td>0.672269</td>\n",
              "      <td>0.503132</td>\n",
              "      <td>0.0</td>\n",
              "    </tr>\n",
              "    <tr>\n",
              "      <th>4</th>\n",
              "      <td>0.764706</td>\n",
              "      <td>0.655462</td>\n",
              "      <td>0.415449</td>\n",
              "      <td>0.0</td>\n",
              "    </tr>\n",
              "  </tbody>\n",
              "</table>\n",
              "</div>\n",
              "      <button class=\"colab-df-convert\" onclick=\"convertToInteractive('df-3623c382-2e4d-4151-a571-f2c524505acf')\"\n",
              "              title=\"Convert this dataframe to an interactive table.\"\n",
              "              style=\"display:none;\">\n",
              "        \n",
              "  <svg xmlns=\"http://www.w3.org/2000/svg\" height=\"24px\"viewBox=\"0 0 24 24\"\n",
              "       width=\"24px\">\n",
              "    <path d=\"M0 0h24v24H0V0z\" fill=\"none\"/>\n",
              "    <path d=\"M18.56 5.44l.94 2.06.94-2.06 2.06-.94-2.06-.94-.94-2.06-.94 2.06-2.06.94zm-11 1L8.5 8.5l.94-2.06 2.06-.94-2.06-.94L8.5 2.5l-.94 2.06-2.06.94zm10 10l.94 2.06.94-2.06 2.06-.94-2.06-.94-.94-2.06-.94 2.06-2.06.94z\"/><path d=\"M17.41 7.96l-1.37-1.37c-.4-.4-.92-.59-1.43-.59-.52 0-1.04.2-1.43.59L10.3 9.45l-7.72 7.72c-.78.78-.78 2.05 0 2.83L4 21.41c.39.39.9.59 1.41.59.51 0 1.02-.2 1.41-.59l7.78-7.78 2.81-2.81c.8-.78.8-2.07 0-2.86zM5.41 20L4 18.59l7.72-7.72 1.47 1.35L5.41 20z\"/>\n",
              "  </svg>\n",
              "      </button>\n",
              "      \n",
              "  <style>\n",
              "    .colab-df-container {\n",
              "      display:flex;\n",
              "      flex-wrap:wrap;\n",
              "      gap: 12px;\n",
              "    }\n",
              "\n",
              "    .colab-df-convert {\n",
              "      background-color: #E8F0FE;\n",
              "      border: none;\n",
              "      border-radius: 50%;\n",
              "      cursor: pointer;\n",
              "      display: none;\n",
              "      fill: #1967D2;\n",
              "      height: 32px;\n",
              "      padding: 0 0 0 0;\n",
              "      width: 32px;\n",
              "    }\n",
              "\n",
              "    .colab-df-convert:hover {\n",
              "      background-color: #E2EBFA;\n",
              "      box-shadow: 0px 1px 2px rgba(60, 64, 67, 0.3), 0px 1px 3px 1px rgba(60, 64, 67, 0.15);\n",
              "      fill: #174EA6;\n",
              "    }\n",
              "\n",
              "    [theme=dark] .colab-df-convert {\n",
              "      background-color: #3B4455;\n",
              "      fill: #D2E3FC;\n",
              "    }\n",
              "\n",
              "    [theme=dark] .colab-df-convert:hover {\n",
              "      background-color: #434B5C;\n",
              "      box-shadow: 0px 1px 3px 1px rgba(0, 0, 0, 0.15);\n",
              "      filter: drop-shadow(0px 1px 2px rgba(0, 0, 0, 0.3));\n",
              "      fill: #FFFFFF;\n",
              "    }\n",
              "  </style>\n",
              "\n",
              "      <script>\n",
              "        const buttonEl =\n",
              "          document.querySelector('#df-3623c382-2e4d-4151-a571-f2c524505acf button.colab-df-convert');\n",
              "        buttonEl.style.display =\n",
              "          google.colab.kernel.accessAllowed ? 'block' : 'none';\n",
              "\n",
              "        async function convertToInteractive(key) {\n",
              "          const element = document.querySelector('#df-3623c382-2e4d-4151-a571-f2c524505acf');\n",
              "          const dataTable =\n",
              "            await google.colab.kernel.invokeFunction('convertToInteractive',\n",
              "                                                     [key], {});\n",
              "          if (!dataTable) return;\n",
              "\n",
              "          const docLinkHtml = 'Like what you see? Visit the ' +\n",
              "            '<a target=\"_blank\" href=https://colab.research.google.com/notebooks/data_table.ipynb>data table notebook</a>'\n",
              "            + ' to learn more about interactive tables.';\n",
              "          element.innerHTML = '';\n",
              "          dataTable['output_type'] = 'display_data';\n",
              "          await google.colab.output.renderOutput(dataTable, element);\n",
              "          const docLink = document.createElement('div');\n",
              "          docLink.innerHTML = docLinkHtml;\n",
              "          element.appendChild(docLink);\n",
              "        }\n",
              "      </script>\n",
              "    </div>\n",
              "  </div>\n",
              "  "
            ]
          },
          "metadata": {},
          "execution_count": 26
        }
      ]
    },
    {
      "cell_type": "code",
      "source": [
        "dataframe1"
      ],
      "metadata": {
        "colab": {
          "base_uri": "https://localhost:8080/",
          "height": 424
        },
        "id": "SbOIUKcXXTz-",
        "outputId": "0d286400-9a98-4899-835c-c3dc9cc1a455"
      },
      "execution_count": null,
      "outputs": [
        {
          "output_type": "execute_result",
          "data": {
            "text/plain": [
              "         temp       dew  humidity    precip\n",
              "0    0.658824  0.571429  0.392484  0.000000\n",
              "1    0.564706  0.394958  0.290188  0.000000\n",
              "2    0.517647  0.537815  0.463466  0.000000\n",
              "3    0.670588  0.672269  0.503132  0.000000\n",
              "4    0.764706  0.655462  0.415449  0.000000\n",
              "..        ...       ...       ...       ...\n",
              "745  0.552941  0.588235  0.475992  0.006486\n",
              "746  0.505882  0.588235  0.511482  0.003784\n",
              "747  0.600000  0.529412  0.375783  0.000000\n",
              "748  0.564706  0.563025  0.438413  0.000000\n",
              "749  0.647059  0.655462  0.475992  0.003243\n",
              "\n",
              "[750 rows x 4 columns]"
            ],
            "text/html": [
              "\n",
              "  <div id=\"df-5c1fcd0f-364d-4f2d-bb51-3c63ce486c37\">\n",
              "    <div class=\"colab-df-container\">\n",
              "      <div>\n",
              "<style scoped>\n",
              "    .dataframe tbody tr th:only-of-type {\n",
              "        vertical-align: middle;\n",
              "    }\n",
              "\n",
              "    .dataframe tbody tr th {\n",
              "        vertical-align: top;\n",
              "    }\n",
              "\n",
              "    .dataframe thead th {\n",
              "        text-align: right;\n",
              "    }\n",
              "</style>\n",
              "<table border=\"1\" class=\"dataframe\">\n",
              "  <thead>\n",
              "    <tr style=\"text-align: right;\">\n",
              "      <th></th>\n",
              "      <th>temp</th>\n",
              "      <th>dew</th>\n",
              "      <th>humidity</th>\n",
              "      <th>precip</th>\n",
              "    </tr>\n",
              "  </thead>\n",
              "  <tbody>\n",
              "    <tr>\n",
              "      <th>0</th>\n",
              "      <td>0.658824</td>\n",
              "      <td>0.571429</td>\n",
              "      <td>0.392484</td>\n",
              "      <td>0.000000</td>\n",
              "    </tr>\n",
              "    <tr>\n",
              "      <th>1</th>\n",
              "      <td>0.564706</td>\n",
              "      <td>0.394958</td>\n",
              "      <td>0.290188</td>\n",
              "      <td>0.000000</td>\n",
              "    </tr>\n",
              "    <tr>\n",
              "      <th>2</th>\n",
              "      <td>0.517647</td>\n",
              "      <td>0.537815</td>\n",
              "      <td>0.463466</td>\n",
              "      <td>0.000000</td>\n",
              "    </tr>\n",
              "    <tr>\n",
              "      <th>3</th>\n",
              "      <td>0.670588</td>\n",
              "      <td>0.672269</td>\n",
              "      <td>0.503132</td>\n",
              "      <td>0.000000</td>\n",
              "    </tr>\n",
              "    <tr>\n",
              "      <th>4</th>\n",
              "      <td>0.764706</td>\n",
              "      <td>0.655462</td>\n",
              "      <td>0.415449</td>\n",
              "      <td>0.000000</td>\n",
              "    </tr>\n",
              "    <tr>\n",
              "      <th>...</th>\n",
              "      <td>...</td>\n",
              "      <td>...</td>\n",
              "      <td>...</td>\n",
              "      <td>...</td>\n",
              "    </tr>\n",
              "    <tr>\n",
              "      <th>745</th>\n",
              "      <td>0.552941</td>\n",
              "      <td>0.588235</td>\n",
              "      <td>0.475992</td>\n",
              "      <td>0.006486</td>\n",
              "    </tr>\n",
              "    <tr>\n",
              "      <th>746</th>\n",
              "      <td>0.505882</td>\n",
              "      <td>0.588235</td>\n",
              "      <td>0.511482</td>\n",
              "      <td>0.003784</td>\n",
              "    </tr>\n",
              "    <tr>\n",
              "      <th>747</th>\n",
              "      <td>0.600000</td>\n",
              "      <td>0.529412</td>\n",
              "      <td>0.375783</td>\n",
              "      <td>0.000000</td>\n",
              "    </tr>\n",
              "    <tr>\n",
              "      <th>748</th>\n",
              "      <td>0.564706</td>\n",
              "      <td>0.563025</td>\n",
              "      <td>0.438413</td>\n",
              "      <td>0.000000</td>\n",
              "    </tr>\n",
              "    <tr>\n",
              "      <th>749</th>\n",
              "      <td>0.647059</td>\n",
              "      <td>0.655462</td>\n",
              "      <td>0.475992</td>\n",
              "      <td>0.003243</td>\n",
              "    </tr>\n",
              "  </tbody>\n",
              "</table>\n",
              "<p>750 rows × 4 columns</p>\n",
              "</div>\n",
              "      <button class=\"colab-df-convert\" onclick=\"convertToInteractive('df-5c1fcd0f-364d-4f2d-bb51-3c63ce486c37')\"\n",
              "              title=\"Convert this dataframe to an interactive table.\"\n",
              "              style=\"display:none;\">\n",
              "        \n",
              "  <svg xmlns=\"http://www.w3.org/2000/svg\" height=\"24px\"viewBox=\"0 0 24 24\"\n",
              "       width=\"24px\">\n",
              "    <path d=\"M0 0h24v24H0V0z\" fill=\"none\"/>\n",
              "    <path d=\"M18.56 5.44l.94 2.06.94-2.06 2.06-.94-2.06-.94-.94-2.06-.94 2.06-2.06.94zm-11 1L8.5 8.5l.94-2.06 2.06-.94-2.06-.94L8.5 2.5l-.94 2.06-2.06.94zm10 10l.94 2.06.94-2.06 2.06-.94-2.06-.94-.94-2.06-.94 2.06-2.06.94z\"/><path d=\"M17.41 7.96l-1.37-1.37c-.4-.4-.92-.59-1.43-.59-.52 0-1.04.2-1.43.59L10.3 9.45l-7.72 7.72c-.78.78-.78 2.05 0 2.83L4 21.41c.39.39.9.59 1.41.59.51 0 1.02-.2 1.41-.59l7.78-7.78 2.81-2.81c.8-.78.8-2.07 0-2.86zM5.41 20L4 18.59l7.72-7.72 1.47 1.35L5.41 20z\"/>\n",
              "  </svg>\n",
              "      </button>\n",
              "      \n",
              "  <style>\n",
              "    .colab-df-container {\n",
              "      display:flex;\n",
              "      flex-wrap:wrap;\n",
              "      gap: 12px;\n",
              "    }\n",
              "\n",
              "    .colab-df-convert {\n",
              "      background-color: #E8F0FE;\n",
              "      border: none;\n",
              "      border-radius: 50%;\n",
              "      cursor: pointer;\n",
              "      display: none;\n",
              "      fill: #1967D2;\n",
              "      height: 32px;\n",
              "      padding: 0 0 0 0;\n",
              "      width: 32px;\n",
              "    }\n",
              "\n",
              "    .colab-df-convert:hover {\n",
              "      background-color: #E2EBFA;\n",
              "      box-shadow: 0px 1px 2px rgba(60, 64, 67, 0.3), 0px 1px 3px 1px rgba(60, 64, 67, 0.15);\n",
              "      fill: #174EA6;\n",
              "    }\n",
              "\n",
              "    [theme=dark] .colab-df-convert {\n",
              "      background-color: #3B4455;\n",
              "      fill: #D2E3FC;\n",
              "    }\n",
              "\n",
              "    [theme=dark] .colab-df-convert:hover {\n",
              "      background-color: #434B5C;\n",
              "      box-shadow: 0px 1px 3px 1px rgba(0, 0, 0, 0.15);\n",
              "      filter: drop-shadow(0px 1px 2px rgba(0, 0, 0, 0.3));\n",
              "      fill: #FFFFFF;\n",
              "    }\n",
              "  </style>\n",
              "\n",
              "      <script>\n",
              "        const buttonEl =\n",
              "          document.querySelector('#df-5c1fcd0f-364d-4f2d-bb51-3c63ce486c37 button.colab-df-convert');\n",
              "        buttonEl.style.display =\n",
              "          google.colab.kernel.accessAllowed ? 'block' : 'none';\n",
              "\n",
              "        async function convertToInteractive(key) {\n",
              "          const element = document.querySelector('#df-5c1fcd0f-364d-4f2d-bb51-3c63ce486c37');\n",
              "          const dataTable =\n",
              "            await google.colab.kernel.invokeFunction('convertToInteractive',\n",
              "                                                     [key], {});\n",
              "          if (!dataTable) return;\n",
              "\n",
              "          const docLinkHtml = 'Like what you see? Visit the ' +\n",
              "            '<a target=\"_blank\" href=https://colab.research.google.com/notebooks/data_table.ipynb>data table notebook</a>'\n",
              "            + ' to learn more about interactive tables.';\n",
              "          element.innerHTML = '';\n",
              "          dataTable['output_type'] = 'display_data';\n",
              "          await google.colab.output.renderOutput(dataTable, element);\n",
              "          const docLink = document.createElement('div');\n",
              "          docLink.innerHTML = docLinkHtml;\n",
              "          element.appendChild(docLink);\n",
              "        }\n",
              "      </script>\n",
              "    </div>\n",
              "  </div>\n",
              "  "
            ]
          },
          "metadata": {},
          "execution_count": 27
        }
      ]
    },
    {
      "cell_type": "code",
      "source": [
        "from sklearn.model_selection import train_test_split\n"
      ],
      "metadata": {
        "id": "XrNMEllIXcNt"
      },
      "execution_count": null,
      "outputs": []
    },
    {
      "cell_type": "code",
      "source": [
        "from sklearn.model_selection import train_test_split\n",
        "y= dataframe1['precip']\n",
        "x = dataframe1.loc[:, ('temp', 'dew', 'humidity')]\n",
        "x_train, x_test, y_train, y_test = train_test_split(x, y, test_size=0.2,random_state=0)"
      ],
      "metadata": {
        "id": "3tx0OgNcw_bN"
      },
      "execution_count": null,
      "outputs": []
    },
    {
      "cell_type": "code",
      "source": [
        "print(x_train.head())\n",
        "print(\"\\n\")\n",
        "print(x_test.head())  "
      ],
      "metadata": {
        "colab": {
          "base_uri": "https://localhost:8080/"
        },
        "id": "Up1PONIbzA0b",
        "outputId": "2ff85237-f9fb-4275-a80f-59ca528efe0c"
      },
      "execution_count": null,
      "outputs": [
        {
          "output_type": "stream",
          "name": "stdout",
          "text": [
            "         temp       dew  humidity\n",
            "247  0.447059  0.882353  0.903967\n",
            "97   0.776471  0.831933  0.599165\n",
            "518  0.941176  0.857143  0.486430\n",
            "157  0.694118  0.865546  0.686848\n",
            "511  0.894118  0.764706  0.432150\n",
            "\n",
            "\n",
            "         temp       dew  humidity\n",
            "474  0.635294  0.638655  0.480167\n",
            "113  0.929412  0.915966  0.563674\n",
            "266  0.529412  0.789916  0.716075\n",
            "31   0.670588  0.529412  0.365344\n",
            "548  0.600000  0.848739  0.734864\n"
          ]
        }
      ]
    },
    {
      "cell_type": "markdown",
      "source": [
        "passing to the model"
      ],
      "metadata": {
        "id": "Mk9IAtUl1H4D"
      }
    },
    {
      "cell_type": "code",
      "source": [
        "from sklearn.neural_network import MLPRegressor"
      ],
      "metadata": {
        "id": "DmTuuFkN1Nbr"
      },
      "execution_count": null,
      "outputs": []
    },
    {
      "cell_type": "code",
      "source": [
        "M = MLPRegressor()\n",
        "M.fit(x_train, y_train)\n"
      ],
      "metadata": {
        "colab": {
          "base_uri": "https://localhost:8080/"
        },
        "id": "Q1nJW3Ki1lnz",
        "outputId": "4970c995-fbce-494b-db94-017ee2faddf3"
      },
      "execution_count": null,
      "outputs": [
        {
          "output_type": "execute_result",
          "data": {
            "text/plain": [
              "MLPRegressor()"
            ]
          },
          "metadata": {},
          "execution_count": 45
        }
      ]
    },
    {
      "cell_type": "code",
      "source": [
        "# testing\n",
        "\n",
        "expected = y_test\n",
        "result_y = M.predict(x_test)"
      ],
      "metadata": {
        "id": "XCXWuGae2LEN"
      },
      "execution_count": null,
      "outputs": []
    },
    {
      "cell_type": "code",
      "source": [
        "print(expected)\n"
      ],
      "metadata": {
        "colab": {
          "base_uri": "https://localhost:8080/"
        },
        "id": "bhMZLDkn2_Bm",
        "outputId": "0e5906ed-239e-4d7f-8792-17fe4e621bf9"
      },
      "execution_count": null,
      "outputs": [
        {
          "output_type": "stream",
          "name": "stdout",
          "text": [
            "474    0.000000\n",
            "113    0.000000\n",
            "266    0.000000\n",
            "31     0.000000\n",
            "548    0.000000\n",
            "         ...   \n",
            "118    0.064865\n",
            "239    0.000000\n",
            "210    0.002703\n",
            "570    0.129730\n",
            "294    0.009189\n",
            "Name: precip, Length: 150, dtype: float64\n"
          ]
        }
      ]
    },
    {
      "cell_type": "code",
      "source": [
        "print(result_y)"
      ],
      "metadata": {
        "colab": {
          "base_uri": "https://localhost:8080/"
        },
        "id": "sCOBkaHO3vIP",
        "outputId": "82d10b67-020f-4f99-aaa4-4729226d2dfd"
      },
      "execution_count": null,
      "outputs": [
        {
          "output_type": "stream",
          "name": "stdout",
          "text": [
            "[ 0.00060111 -0.01341381  0.06175757 -0.02582167  0.04794047  0.11284763\n",
            " -0.00318816  0.01757265 -0.02722127  0.04608382  0.01005792  0.13619952\n",
            "  0.09737168  0.18377784  0.0821127   0.00497794  0.12757995  0.09544098\n",
            " -0.0109619   0.01782829  0.06369669  0.19684545  0.01845907 -0.05366007\n",
            "  0.04894707  0.03518551  0.11921491  0.06951806  0.05576378 -0.01076339\n",
            "  0.03517485  0.11526412 -0.00849472  0.02882811  0.01908715  0.11147671\n",
            "  0.05098131  0.04378391 -0.00679205  0.11211048  0.00780835  0.09714896\n",
            "  0.04378391  0.06570659  0.05786799 -0.01843086  0.00819333  0.02135197\n",
            "  0.00164824  0.1201702   0.1097057  -0.00149912  0.08773414  0.01542894\n",
            "  0.14608698  0.1917913   0.00252943  0.00588636 -0.0540262   0.08214709\n",
            "  0.08360371 -0.01116661  0.0131279   0.07696691 -0.00770185  0.08295822\n",
            "  0.09219568 -0.00448158  0.02062938  0.00466776  0.11107989  0.03707993\n",
            "  0.03826413 -0.01931698  0.01498499  0.11071689  0.13005153  0.11888013\n",
            "  0.01982339  0.04325624  0.05875369  0.04973906 -0.01278841  0.08355835\n",
            "  0.09109879  0.02038032  0.09647484  0.00833672  0.08663726  0.00803599\n",
            "  0.0075211  -0.01120254  0.20193695  0.05976143  0.01290204 -0.04036035\n",
            "  0.13849189  0.06192595  0.01947334  0.06322878  0.03769568  0.12686195\n",
            "  0.01577276 -0.01413529  0.0744603   0.20711958  0.03015255  0.09051633\n",
            "  0.1011654   0.16748821 -0.03446519  0.08795686 -0.00278773  0.02456791\n",
            "  0.03077529  0.00396145  0.05222333  0.16061112 -0.01243846  0.00885328\n",
            "  0.10035391  0.1460289   0.09981681  0.07963893  0.07229688  0.1565182\n",
            "  0.07547782  0.06100345  0.00941063 -0.01753897  0.18519685  0.05388059\n",
            "  0.06360379  0.01151556 -0.00191472  0.10731189  0.02702104  0.03775443\n",
            "  0.05919186  0.00626291  0.15712618  0.11773193  0.06969637  0.02679835\n",
            " -0.02231682  0.00272263  0.07092718  0.05169055  0.11605258  0.04065355]\n"
          ]
        }
      ]
    },
    {
      "cell_type": "code",
      "source": [
        "from sklearn import metrics\n",
        "print(metrics.r2_score(expected, result_y))\n",
        "print(metrics.mean_squared_log_error(expected, result_y))"
      ],
      "metadata": {
        "colab": {
          "base_uri": "https://localhost:8080/",
          "height": 343
        },
        "id": "lmevl0Gm38LU",
        "outputId": "1973ee82-b019-49a9-f5a1-95b7d56ba4eb"
      },
      "execution_count": null,
      "outputs": [
        {
          "output_type": "stream",
          "name": "stdout",
          "text": [
            "0.41433300850674426\n"
          ]
        },
        {
          "output_type": "error",
          "ename": "ValueError",
          "evalue": "ignored",
          "traceback": [
            "\u001b[0;31m---------------------------------------------------------------------------\u001b[0m",
            "\u001b[0;31mValueError\u001b[0m                                Traceback (most recent call last)",
            "\u001b[0;32m<ipython-input-52-6af7e2069ec4>\u001b[0m in \u001b[0;36m<module>\u001b[0;34m\u001b[0m\n\u001b[1;32m      1\u001b[0m \u001b[0;32mfrom\u001b[0m \u001b[0msklearn\u001b[0m \u001b[0;32mimport\u001b[0m \u001b[0mmetrics\u001b[0m\u001b[0;34m\u001b[0m\u001b[0;34m\u001b[0m\u001b[0m\n\u001b[1;32m      2\u001b[0m \u001b[0mprint\u001b[0m\u001b[0;34m(\u001b[0m\u001b[0mmetrics\u001b[0m\u001b[0;34m.\u001b[0m\u001b[0mr2_score\u001b[0m\u001b[0;34m(\u001b[0m\u001b[0mexpected\u001b[0m\u001b[0;34m,\u001b[0m \u001b[0mresult_y\u001b[0m\u001b[0;34m)\u001b[0m\u001b[0;34m)\u001b[0m\u001b[0;34m\u001b[0m\u001b[0;34m\u001b[0m\u001b[0m\n\u001b[0;32m----> 3\u001b[0;31m \u001b[0mprint\u001b[0m\u001b[0;34m(\u001b[0m\u001b[0mmetrics\u001b[0m\u001b[0;34m.\u001b[0m\u001b[0mmean_squared_log_error\u001b[0m\u001b[0;34m(\u001b[0m\u001b[0mexpected\u001b[0m\u001b[0;34m,\u001b[0m \u001b[0mresult_y\u001b[0m\u001b[0;34m)\u001b[0m\u001b[0;34m)\u001b[0m\u001b[0;34m\u001b[0m\u001b[0;34m\u001b[0m\u001b[0m\n\u001b[0m",
            "\u001b[0;32m/usr/local/lib/python3.8/dist-packages/sklearn/metrics/_regression.py\u001b[0m in \u001b[0;36mmean_squared_log_error\u001b[0;34m(y_true, y_pred, sample_weight, multioutput, squared)\u001b[0m\n\u001b[1;32m    519\u001b[0m \u001b[0;34m\u001b[0m\u001b[0m\n\u001b[1;32m    520\u001b[0m     \u001b[0;32mif\u001b[0m \u001b[0;34m(\u001b[0m\u001b[0my_true\u001b[0m \u001b[0;34m<\u001b[0m \u001b[0;36m0\u001b[0m\u001b[0;34m)\u001b[0m\u001b[0;34m.\u001b[0m\u001b[0many\u001b[0m\u001b[0;34m(\u001b[0m\u001b[0;34m)\u001b[0m \u001b[0;32mor\u001b[0m \u001b[0;34m(\u001b[0m\u001b[0my_pred\u001b[0m \u001b[0;34m<\u001b[0m \u001b[0;36m0\u001b[0m\u001b[0;34m)\u001b[0m\u001b[0;34m.\u001b[0m\u001b[0many\u001b[0m\u001b[0;34m(\u001b[0m\u001b[0;34m)\u001b[0m\u001b[0;34m:\u001b[0m\u001b[0;34m\u001b[0m\u001b[0;34m\u001b[0m\u001b[0m\n\u001b[0;32m--> 521\u001b[0;31m         raise ValueError(\n\u001b[0m\u001b[1;32m    522\u001b[0m             \u001b[0;34m\"Mean Squared Logarithmic Error cannot be used when \"\u001b[0m\u001b[0;34m\u001b[0m\u001b[0;34m\u001b[0m\u001b[0m\n\u001b[1;32m    523\u001b[0m             \u001b[0;34m\"targets contain negative values.\"\u001b[0m\u001b[0;34m\u001b[0m\u001b[0;34m\u001b[0m\u001b[0m\n",
            "\u001b[0;31mValueError\u001b[0m: Mean Squared Logarithmic Error cannot be used when targets contain negative values."
          ]
        }
      ]
    },
    {
      "cell_type": "code",
      "source": [],
      "metadata": {
        "id": "cDVaOeZG4TaH"
      },
      "execution_count": null,
      "outputs": []
    }
  ]
}