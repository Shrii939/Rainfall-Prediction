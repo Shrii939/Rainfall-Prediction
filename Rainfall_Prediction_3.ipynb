{
 "cells": [
  {
   "cell_type": "code",
   "execution_count": 7,
   "metadata": {
    "collapsed": false
   },
   "outputs": [
    {
     "name": "stdout",
     "output_type": "stream",
     "text": [
      "[[ 1  1 28 ...,  5  4  5]\n",
      " [ 1  2 26 ...,  3  2  2]\n",
      " [ 1  3 27 ...,  4  4  6]\n",
      " ..., \n",
      " [12 29 29 ...,  4  2  5]\n",
      " [12 30 30 ...,  4  2  5]\n",
      " [12 31 29 ...,  4  3  2]]\n",
      "[ 0.  0.  0. ...,  0.  0.  0.]\n"
     ]
    }
   ],
   "source": [
    "# Daily Rainfall Prediction\n",
    "\n",
    "import pandas as pd\n",
    "import numpy as np\n",
    "import warnings; warnings.simplefilter('ignore') # Jupyter notebook warning message remove\n",
    "\n",
    "#importing the dataset\n",
    "df = pd.read_csv('data/f2.csv')\n",
    "# print(df)\n",
    "\n",
    "#result of independentvariable\n",
    "X = df.iloc[:,1:-3].values \n",
    "print(X)\n",
    "# #result of dependent variable\n",
    "y = df.iloc[:,-3].values\n",
    "print(y)\n",
    "\n",
    "X=X.astype(int)\n",
    "y=y.astype(int)"
   ]
  },
  {
   "cell_type": "code",
   "execution_count": 8,
   "metadata": {
    "collapsed": false
   },
   "outputs": [
    {
     "name": "stdout",
     "output_type": "stream",
     "text": [
      "Maximum R-squared test score: 0.451\n"
     ]
    }
   ],
   "source": [
    "# KNN\n",
    "\n",
    "# X=X.astype(int)\n",
    "# y=y.astype(int)\n",
    "\n",
    "X = np.array(X)\n",
    "y = np.array(y)\n",
    "\n",
    "from sklearn.cross_validation import train_test_split\n",
    "from sklearn.neighbors import KNeighborsRegressor\n",
    "\n",
    "r_square_list = []\n",
    "\n",
    "for i in range(1,100):\n",
    "    X_train, X_test, y_train, y_test = train_test_split(X,y,test_size = 0.10,random_state = i)\n",
    "\n",
    "    neigh = KNeighborsRegressor(n_neighbors=8)\n",
    "    neigh.fit(X_train,y_train)\n",
    "\n",
    "    predicted = neigh.predict(X_test)\n",
    "    #print(\"Prediction Result: \",predicted)\n",
    "    #print(\"i = \",i)\n",
    "    r_square = neigh.score(X_test,y_test)\n",
    "    r_square_list.append(r_square)\n",
    "    #print('R-squared test score: {:.3f}'.format(neigh.score(X_test_n,y_test_n))) # R-Squared test score\n",
    "\n",
    "max_r_square = max(r_square_list)\n",
    "print('Maximum R-squared test score: {:.3f}'.format(max_r_square)) # R-Squared test score"
   ]
  },
  {
   "cell_type": "code",
   "execution_count": 9,
   "metadata": {
    "collapsed": false
   },
   "outputs": [
    {
     "name": "stdout",
     "output_type": "stream",
     "text": [
      "Maximum R-squared test score: 0.393\n"
     ]
    }
   ],
   "source": [
    "# Feature Scaling KNN\n",
    "\n",
    "import warnings; warnings.simplefilter('ignore') # Jupyter notebook warning message remove\n",
    "# Feature Scaling- MinMaxScaler\n",
    "from sklearn import preprocessing\n",
    "scaler = preprocessing.MinMaxScaler()\n",
    "\n",
    "r_square_list = []\n",
    "for i in range(1,100):\n",
    "    X_train, X_test, y_train, y_test = train_test_split(X,y,test_size = 0.10,random_state = i)\n",
    "\n",
    "    # Feature Scaling- MinMaxScaler\n",
    "\n",
    "    X_train_n = scaler.fit_transform(X_train) # X_train_n = normalized\n",
    "    X_test_n = scaler.fit_transform(X_test)\n",
    "    y_train_n = scaler.fit_transform(y_train)\n",
    "    y_test_n = scaler.fit_transform(y_test)\n",
    "\n",
    "    neigh = KNeighborsRegressor(n_neighbors=8)\n",
    "    neigh.fit(X_train_n,y_train_n)\n",
    "\n",
    "    predicted = neigh.predict(X_test_n)\n",
    "    #print(\"Prediction Result: \",predicted)\n",
    "    #print(\"i = \",i)\n",
    "    r_square = neigh.score(X_test_n,y_test_n)\n",
    "    r_square_list.append(r_square)\n",
    "    #print('R-squared test score: {:.3f}'.format(neigh.score(X_test_n,y_test_n))) # R-Squared test score\n",
    "\n",
    "max_r_square = max(r_square_list)\n",
    "print('Maximum R-squared test score: {:.3f}'.format(max_r_square)) # R-Squared test score\n",
    "\n",
    "#Undo the scaling of X according to feature_range.    \n",
    "X_train_d = scaler.inverse_transform(X_train_n) # X_train_d = dnormalized\n",
    "X_test_d = scaler.inverse_transform(X_test_n)\n",
    "y_train_d = scaler.inverse_transform(y_train_n)\n",
    "y_test_d = scaler.inverse_transform(y_test_n)\n",
    "predicted_d = scaler.inverse_transform(predicted)  "
   ]
  },
  {
   "cell_type": "code",
   "execution_count": 10,
   "metadata": {
    "collapsed": false
   },
   "outputs": [
    {
     "name": "stdout",
     "output_type": "stream",
     "text": [
      "Maximum R-squared test score: 0.580\n"
     ]
    }
   ],
   "source": [
    "# Random Forest\n",
    "from sklearn.ensemble import RandomForestRegressor\n",
    "\n",
    "#regressor = RandomForestRegressor(random_state=0, n_estimators=200, max_depth=None, max_features=1, min_samples_leaf=1, min_samples_split=2, bootstrap=False)\n",
    "r_square_list = []\n",
    "for i in range(1,100):\n",
    "    #regressor = RandomForestRegressor(max_depth=None, random_state=i)\n",
    "    X_train, X_test, y_train, y_test = train_test_split(X,y,test_size = 0.10,random_state = i)\n",
    "    regressor = RandomForestRegressor(n_estimators=200, max_depth=None, max_features=1, min_samples_leaf=1, min_samples_split=2, bootstrap=False)\n",
    "    regressor.fit(X_train, y_train)\n",
    "\n",
    "    predicted = regressor.predict(X_test)\n",
    "    #print(\"Prediction Result: \",predicted1)\n",
    "    #print(\"i = \",i)\n",
    "\n",
    "    #print('R-squared test score: {:.3f}'.format(regressor.score(X_test,y_test))) # R-Squared test score\n",
    "    r_square = regressor.score(X_test,y_test)\n",
    "    r_square_list.append(r_square)\n",
    "\n",
    "max_r_square = max(r_square_list)\n",
    "print('Maximum R-squared test score: {:.3f}'.format(max_r_square)) # R-Squared test score"
   ]
  },
  {
   "cell_type": "code",
   "execution_count": 11,
   "metadata": {
    "collapsed": false
   },
   "outputs": [
    {
     "name": "stdout",
     "output_type": "stream",
     "text": [
      "Maximum R-squared test score: 0.384\n"
     ]
    }
   ],
   "source": [
    "# Feature Scaling Random Forest\n",
    "\n",
    "import warnings; warnings.simplefilter('ignore') # Jupyter notebook warning message remove\n",
    "\n",
    "# Feature Scaling- MinMaxScaler\n",
    "from sklearn import preprocessing\n",
    "scaler = preprocessing.MinMaxScaler()\n",
    "\n",
    "\n",
    "from sklearn.ensemble import RandomForestRegressor\n",
    "\n",
    "#regressor = RandomForestRegressor(random_state=0, n_estimators=200, max_depth=None, max_features=1, min_samples_leaf=1, min_samples_split=2, bootstrap=False)\n",
    "r_square_list = []\n",
    "for i in range(1,100):\n",
    "    #regressor = RandomForestRegressor(max_depth=None, random_state=i)\n",
    "    X_train, X_test, y_train, y_test = train_test_split(X,y,test_size = 0.10,random_state = i)\n",
    "\n",
    "    # Feature Scaling- MinMaxScaler\n",
    "\n",
    "    X_train_n = scaler.fit_transform(X_train)\n",
    "    X_test_n = scaler.fit_transform(X_test)\n",
    "    y_train_n = scaler.fit_transform(y_train)\n",
    "    y_test_n = scaler.fit_transform(y_test)\n",
    "\n",
    "    regressor = RandomForestRegressor(n_estimators=200, max_depth=None, max_features=1, min_samples_leaf=1, min_samples_split=2, bootstrap=False)\n",
    "    regressor.fit(X_train_n, y_train_n)\n",
    "\n",
    "    predicted = regressor.predict(X_test_n)\n",
    "    #print(\"Prediction Result: \",predicted)\n",
    "    #print(\"i = \",i)\n",
    "\n",
    "    #print('R-squared test score: {:.3f}'.format(regressor.score(X_test_n,y_test_n))) # R-Squared test score\n",
    "    r_square = regressor.score(X_test_n,y_test_n)\n",
    "    r_square_list.append(r_square)\n",
    "\n",
    "max_r_square = max(r_square_list)\n",
    "print('Maximum R-squared test score: {:.3f}'.format(max_r_square)) # R-Squared test score\n",
    "\n",
    "#Undo the scaling of X according to feature_range.    \n",
    "X_train_d = scaler.inverse_transform(X_train_n)\n",
    "X_test_d = scaler.inverse_transform(X_test_n)\n",
    "y_train_d = scaler.inverse_transform(y_train_n)\n",
    "y_test_d = scaler.inverse_transform(y_test_n)\n",
    "predicted_d = scaler.inverse_transform(predicted)"
   ]
  },
  {
   "cell_type": "code",
   "execution_count": null,
   "metadata": {
    "collapsed": true
   },
   "outputs": [],
   "source": []
  }
 ],
 "metadata": {
  "anaconda-cloud": {},
  "kernelspec": {
   "display_name": "Python [default]",
   "language": "python",
   "name": "python3"
  },
  "language_info": {
   "codemirror_mode": {
    "name": "ipython",
    "version": 3
   },
   "file_extension": ".py",
   "mimetype": "text/x-python",
   "name": "python",
   "nbconvert_exporter": "python",
   "pygments_lexer": "ipython3",
   "version": "3.5.2"
  }
 },
 "nbformat": 4,
 "nbformat_minor": 1
}
